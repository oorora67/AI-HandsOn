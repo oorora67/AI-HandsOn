{
  "nbformat": 4,
  "nbformat_minor": 0,
  "metadata": {
    "colab": {
      "name": "AI.ipynb",
      "version": "0.3.2",
      "provenance": [],
      "collapsed_sections": [],
      "include_colab_link": true
    },
    "kernelspec": {
      "name": "python3",
      "display_name": "Python 3"
    },
    "accelerator": "GPU"
  },
  "cells": [
    {
      "cell_type": "markdown",
      "metadata": {
        "id": "view-in-github",
        "colab_type": "text"
      },
      "source": [
        "<a href=\"https://colab.research.google.com/github/oorora67/AI-HandsOn/blob/master/AI.ipynb\" target=\"_parent\"><img src=\"https://colab.research.google.com/assets/colab-badge.svg\" alt=\"Open In Colab\"/></a>"
      ]
    },
    {
      "cell_type": "markdown",
      "metadata": {
        "id": "kT5PtucDNLoI",
        "colab_type": "text"
      },
      "source": [
        "# Google Drive　マウント"
      ]
    },
    {
      "cell_type": "code",
      "metadata": {
        "colab_type": "code",
        "id": "A__YTxfFKmQH",
        "colab": {}
      },
      "source": [
        "#Google Drive　Mount\n",
        "from google.colab import drive\n",
        "drive.mount('/content/gdrive')"
      ],
      "execution_count": 0,
      "outputs": []
    },
    {
      "cell_type": "markdown",
      "metadata": {
        "id": "a7iXgdzFM7ok",
        "colab_type": "text"
      },
      "source": [
        "# **画像収集スクリプト**\n"
      ]
    },
    {
      "cell_type": "code",
      "metadata": {
        "id": "TnnW18bIdhbz",
        "colab_type": "code",
        "colab": {}
      },
      "source": [
        "import json\n",
        "import os\n",
        "import sys\n",
        "import urllib\n",
        "from IPython.display import Image,display_jpeg\n",
        "\n",
        "from bs4 import BeautifulSoup\n",
        "import requests\n",
        "#集めたい画像の名前を入力\n",
        "Search_Name = 'カレー'\n",
        "#集めたい枚数を入力\n",
        "Get_Number = 10\n",
        "\n",
        "class Google:\n",
        "    def __init__(self):\n",
        "        self.GOOGLE_SEARCH_URL = 'https://www.google.co.jp/search'\n",
        "        self.session = requests.session()\n",
        "        self.session.headers.update(\n",
        "            {'User-Agent': 'Mozilla/5.0 (X11; Linux x86_64; rv:10.0) Gecko/20100101 Firefox/10.0'})\n",
        "\n",
        "    def search(self, keyword, maximum):\n",
        "        print('begin searching', keyword)\n",
        "        query = self.query_gen(keyword)\n",
        "        return self.image_search(query, maximum)\n",
        "\n",
        "    def query_gen(self, keyword):\n",
        "        # search query generator\n",
        "        page = 0\n",
        "        while True:\n",
        "            params = urllib.parse.urlencode({\n",
        "                'q': keyword,\n",
        "                'tbm': 'isch',\n",
        "                'ijn': str(page)})\n",
        "\n",
        "            yield self.GOOGLE_SEARCH_URL + '?' + params\n",
        "            page += 1\n",
        "\n",
        "    def image_search(self, query_gen, maximum):\n",
        "        # search image\n",
        "        result = []\n",
        "        total = 0\n",
        "        while True:\n",
        "            # search\n",
        "            html = self.session.get(next(query_gen)).text\n",
        "            soup = BeautifulSoup(html, 'lxml')\n",
        "            elements = soup.select('.rg_meta.notranslate')\n",
        "            jsons = [json.loads(e.get_text()) for e in elements]\n",
        "            imageURLs = [js['ou'] for js in jsons]\n",
        "\n",
        "            # add search result\n",
        "            if not len(imageURLs):\n",
        "                print('-> no more images')\n",
        "                break\n",
        "            elif len(imageURLs) > maximum - total:\n",
        "                result += imageURLs[:maximum - total]\n",
        "                break\n",
        "            else:\n",
        "                result += imageURLs\n",
        "                total += len(imageURLs)\n",
        "\n",
        "        print('-> found', str(len(result)), 'images')\n",
        "        return result\n",
        "\n",
        "\n",
        "def main():\n",
        "    google = Google()\n",
        "    # save location\n",
        "    name = Search_Name\n",
        "    data_dir = '/content/gdrive/My Drive/AI-HandsOn/data/'\n",
        "    os.makedirs(data_dir, exist_ok=True)\n",
        "    os.makedirs(data_dir + name, exist_ok=True)\n",
        "\n",
        "        # search image\n",
        "    result = google.search(\n",
        "    name, maximum=Get_Number)\n",
        "\n",
        "        # download\n",
        "    download_error = []\n",
        "    for i in range(len(result)):\n",
        "        print('-> downloading image', str(i + 1).zfill(4))\n",
        "        try:\n",
        "            urllib.request.urlretrieve(result[i], data_dir + name + '/' + str(i + 1).zfill(4) + '.jpg')\n",
        "            display_jpeg(Image(data_dir + name + '/' + str(i + 1).zfill(4) + '.jpg'))\n",
        "            continue\n",
        "        except:\n",
        "            print('--> could not download image', str(i + 1).zfill(4))\n",
        "            download_error.append(i + 1)\n",
        "            continue\n",
        "\n",
        "    print('complete download')\n",
        "    print('├─ download', len(result)-len(download_error), 'images')\n",
        "    print('└─ could not download', len(download_error), 'images', download_error)\n",
        "\n",
        "\n",
        "if __name__ == '__main__':\n",
        "    main()"
      ],
      "execution_count": 0,
      "outputs": []
    }
  ]
}